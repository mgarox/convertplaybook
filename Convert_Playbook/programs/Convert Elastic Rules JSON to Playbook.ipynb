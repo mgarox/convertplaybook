{
 "cells": [
  {
   "cell_type": "markdown",
   "id": "7f6c3bcb-ee7c-4aab-a14a-badf0a020bd6",
   "metadata": {},
   "source": [
    "<center> <h1> Convert Elastic Rules JSON to Playbook </h1> </center>"
   ]
  },
  {
   "cell_type": "markdown",
   "id": "aa9bd874-61af-46cc-96e3-d7e2c58980c7",
   "metadata": {},
   "source": [
    "### A. Deskripsi\n",
    "\n",
    "**Program ini berfungsi untuk men-convert file Elastic Rules JSON ke bentuk File Playbook Excel**"
   ]
  },
  {
   "cell_type": "markdown",
   "id": "3202ef27-b815-4b47-a9a3-fc14d504ab4d",
   "metadata": {},
   "source": [
    "### B. Requirements\n",
    "\n",
    "Berikut adalah requirements yang diperlukan untuk program ini : \n",
    "- python 3.12.3\n",
    "- pandas 2.1.4\n",
    "- tqdm 4.66.1\n",
    "- httpx 0.27.0\n",
    "- openpyxl 3.1.2"
   ]
  },
  {
   "cell_type": "markdown",
   "id": "150f45ab-8869-4f81-9d7e-05764e901f7d",
   "metadata": {},
   "source": [
    "### C. Inisialisasi Awal\n",
    "\n",
    "Berikut adalah yang harus dilakukan terlebih dahulu yaitu :\n",
    "1. Export file Elastic SIEM dalam format NDJSON\n",
    "2. Copy file tersebut ke program directory \"files\"\n",
    "3. Ganti \"ELASTIC_RULES_JSON_FILE_PATH\" dengan file path\n",
    "4. Isi ChatGPT API pada variabel \"API_KEY\"\n",
    "5. Kurangi \"BATCH_SIZE\" untuk meningkatkan speed (Default = 10)"
   ]
  },
  {
   "cell_type": "markdown",
   "id": "5a9f77d8-32aa-45c0-95d8-78db3dac7946",
   "metadata": {},
   "source": [
    "### D. Source Code"
   ]
  },
  {
   "cell_type": "markdown",
   "id": "9f68b884-402d-49d9-808f-7f07cdd49e56",
   "metadata": {},
   "source": [
    "#### 1. Import library yang diperlukan"
   ]
  },
  {
   "cell_type": "code",
   "execution_count": 11,
   "id": "f25f4472-aaa9-4922-b28c-fbecb0dd347f",
   "metadata": {},
   "outputs": [],
   "source": [
    "# Library untuk membaca file JSON\n",
    "# Library untuk menyimpan file dalam format Excel\n",
    "import pandas as pd\n",
    "# Library untuk mengirim HTTP Request dengan performansi yang cepat\n",
    "import httpx\n",
    "# Library untuk membuat fungsi Asynchronous\n",
    "import asyncio\n",
    "# Library untuk membuat progress bar\n",
    "from tqdm.notebook import trange"
   ]
  },
  {
   "cell_type": "markdown",
   "id": "2de97b39-7e71-489f-a52d-d63d9da5b0c0",
   "metadata": {},
   "source": [
    "#### 2. Deklarasi Konstanta/Variabel Global"
   ]
  },
  {
   "cell_type": "code",
   "execution_count": 12,
   "id": "20ff451f-929a-4518-ae1c-514bb237610c",
   "metadata": {},
   "outputs": [],
   "source": [
    "# Nama file elastic rules dalam format .ndjson\n",
    "ELASTIC_RULES_JSON_FILE_PATH = \"../files/[your-file]\"\n",
    "# List-list berisi nama kolom baru yang akan ditambahkan kepada dataframe yang baru\n",
    "KOLOM_YANG_AKAN_DITAMBAHKAN = [\n",
    "    \"Created Date\", \"Name\", \"Description\", \"Impact\", \"Index\", \n",
    "    \"Query\", \"Tactic\", \"Tactic ID\", \"Technique\", \n",
    "    \"Technique ID\", \"References\", \"Tags\"\n",
    "]\n",
    "# API URL untuk ChatGPT\n",
    "API_URL = \"https://api.openai.com/v1/chat/completions\"\n",
    "API_KEY = \"\"\n",
    "# Delay dalam satuan detik\n",
    "DELAY = 10\n",
    "# Jumlah HTTP request yang dikirim dalam satu waktu\n",
    "BATCH_SIZE = 10\n",
    "# Nama file yang akan disimpan dalam bentuk file Excel diambil dari \"ELASTIC_RULES_JSON_FILE_PATH\"\n",
    "NAMA_FILE_OUTPUT = ELASTIC_RULES_JSON_FILE_PATH.split('.')[-2].split('/')[-1]"
   ]
  },
  {
   "cell_type": "markdown",
   "id": "083e8442-3635-4297-9113-c132b9b26c09",
   "metadata": {},
   "source": [
    "#### 3. Membuat fungsi"
   ]
  },
  {
   "cell_type": "code",
   "execution_count": 13,
   "id": "619f2fe4-4c75-42a4-b3b8-d2fccea956e1",
   "metadata": {},
   "outputs": [],
   "source": [
    "# Fungsi untuk membaca file elastic rules dalam format .ndjson lalu membuat dataframe dari file tersebut\n",
    "def membuat_dataframe_elastic(ELASTIC_RULES_JSON_FILE_PATH):\n",
    "    \n",
    "    dataframe_elastic = pd.read_json(ELASTIC_RULES_JSON_FILE_PATH, lines=True)\n",
    "    return dataframe_elastic"
   ]
  },
  {
   "cell_type": "code",
   "execution_count": 14,
   "id": "2353256e-8948-4829-8839-611a36390f08",
   "metadata": {},
   "outputs": [],
   "source": [
    "# Fungsi untuk membuat dataframe baru yang akan disimpan dalam file berformat Excel\n",
    "def membuat_dataframe_baru(KOLOM):\n",
    "    \n",
    "    # Membuat dataframe baru (kosong) yang berisikan kolom-kolom baru yang akan ditambahkan \n",
    "    dataframe_baru = pd.DataFrame(columns=KOLOM)\n",
    "    return dataframe_baru"
   ]
  },
  {
   "cell_type": "code",
   "execution_count": 15,
   "id": "145835bb-1971-4417-829c-95ca3bad64de",
   "metadata": {},
   "outputs": [],
   "source": [
    "# Fungsi membuat list yang berisikan prompt-prompt yang dibagi menjadi beberapa jenis prompt\n",
    "# Prompt Impact dan Prompt Description\n",
    "def membuat_prompt_list(rule_name_list):\n",
    "    \n",
    "    # Membuat list kosong mengenai kolom yang akan diisi dengan menggunakan ChatGPT\n",
    "    # Bisa menambahkan list kosong baru untuk kolom yang lain\n",
    "    impact_prompt_list = []\n",
    "    description_prompt_list = []\n",
    "\n",
    "    for rule_name in rule_name_list:\n",
    "        # Jika nama rule yang telah di-split lebih dari 2 string maka variabel diisi gabungan dari string kedua terakhir dan terakhir\n",
    "        if( len(str(rule_name).split('-')) > 2 ):\n",
    "            rule_name = str(rule_name).split('-')[-2] + ' ' + str(rule_name).split('-')[-1]\n",
    "        else:\n",
    "            # Jika nama rule yang telah di-split kurang dari 2 string maka variabel diisi dari terakhir\n",
    "            rule_name = str(rule_name).split('-')[-1]\n",
    "\n",
    "        impact_prompt = f\"Please give me an impact of {rule_name} with maximal one sentence.\"\n",
    "        description_prompt = f\"Please give me a description of {rule_name} with maximal one sentence.\"\n",
    "\n",
    "        # Mengisi prompt yang telah digabung dengan nama rule dan dimasukkan pada list kosong yang dibuat tadi\n",
    "        impact_prompt_list.append(impact_prompt)\n",
    "        description_prompt_list.append(description_prompt)\n",
    "        \n",
    "    return impact_prompt_list, description_prompt_list"
   ]
  },
  {
   "cell_type": "code",
   "execution_count": 16,
   "id": "4b372c8f-48fa-45c2-aca0-600b6cd301d5",
   "metadata": {},
   "outputs": [],
   "source": [
    "# Fugsi untuk membuat kolom baru dengan bantuan ChatGPT untuk mengisi kolom tersebut\n",
    "# Kolom \"Description\" dan kolom \"Impact\" diisi oleh bantuan ChatGPT\n",
    "async def membuat_kolom_baru(BATCH_SIZE, impact_prompts_list, description_prompts_list):\n",
    "    \n",
    "    # Membuat list baru yang kosong yang akan menampung hasil dari prompt ChatGPT yang telah dikirim\n",
    "    impact_hasil_prompt_list = []\n",
    "    description_hasil_prompt_list = []\n",
    "    \n",
    "    # Mengirim ChatGPT request dengan batching\n",
    "    for i in trange(0, len(impact_prompts_list), BATCH_SIZE, desc=\"Progress Mengirim Prompt\"):\n",
    "        # Membuat task untuk dijalankan secara asynchronous\n",
    "        impact = [api_request(prompt) for prompt in impact_prompts_list[i:i+BATCH_SIZE]]\n",
    "        description = [api_request(prompt) for prompt in description_prompts_list[i:i+BATCH_SIZE]]\n",
    "\n",
    "        # Menjalankan task tersebut secara asynchronous\n",
    "        response_impact = await asyncio.gather(*impact)\n",
    "        response_description = await asyncio.gather(*description)\n",
    "\n",
    "        # Menggabungkan list \"response_impact\" dan list \"response_description\" dengan list \"impact_hasil_prompt_list\" dan \"description_hasil_prompt_list\"\n",
    "        impact_hasil_prompt_list += response_impact\n",
    "        description_hasil_prompt_list += response_description\n",
    "\n",
    "        print(f\"Sleep {DELAY} detik...\")\n",
    "\n",
    "        # Delay sebanyak n detik\n",
    "        await asyncio.sleep(DELAY)\n",
    "    \n",
    "    return impact_hasil_prompt_list, description_hasil_prompt_list"
   ]
  },
  {
   "cell_type": "code",
   "execution_count": 17,
   "id": "f8d069f9-3727-49d3-a046-fb7a41b4e167",
   "metadata": {},
   "outputs": [],
   "source": [
    "# Fungsi untuk mengirim ChatGPT API Request\n",
    "async def api_request(prompt):\n",
    "    headers = {\n",
    "        \"Authorization\": f\"Bearer {API_KEY}\",\n",
    "        \"Content-Type\": \"application/json\"\n",
    "    }\n",
    "\n",
    "    data = {\n",
    "        \"model\": \"gpt-4\",\n",
    "        \"messages\": [\n",
    "            {\"role\": \"system\", \"content\": \"You are a Cyber Secutiy Professional.\"},\n",
    "            {\"role\": \"user\", \"content\": prompt}\n",
    "        ]\n",
    "    }\n",
    "    async with httpx.AsyncClient() as client:\n",
    "        print(f\"Mengirim prompt {prompt}\")\n",
    "        response = await client.post(API_URL, json=data, headers=headers, timeout=None)\n",
    "        # Mengirimkan status error jika terjadi error pada request\n",
    "        response.raise_for_status()\n",
    "        response_data = response.json()\n",
    "        # Hanya mengirim berupa hasil prompt nya saja\n",
    "        return response_data[\"choices\"][0][\"message\"][\"content\"]"
   ]
  },
  {
   "cell_type": "code",
   "execution_count": 18,
   "id": "60b431de-fa5a-4381-a127-87498649c3a8",
   "metadata": {},
   "outputs": [],
   "source": [
    "# Fungsi untuk mengisi data dari dataframe elastic ke dataframe baru dan mengisi data dari ChatGPT ke dataframe baru\n",
    "def mengisi_data_ke_dataframe(dataframe_elastic, dataframe_baru, impact_hasil_prompt_list, description_hasil_prompt_list):\n",
    "    # Looping sampai keseluruhan data pada dataframe elastic\n",
    "    for i in trange(len(dataframe_elastic), desc=\"Progress Mengisi Data ke Dataframe Baru\"):\n",
    "        # Mengecek apakah isi dari kolom \"data_view_id\" bernilai \"NULL\" pada dataframe elastic\n",
    "        # Jika iya, maka variabel \"index\" akan diisi dari kolom \"index\" dari dataframe elastic\n",
    "        if(pd.isnull(dataframe_elastic[\"data_view_id\"][i])):\n",
    "            index = dataframe_elastic[\"index\"][i]\n",
    "        else:\n",
    "            index = dataframe_elastic[\"data_view_id\"][i]\n",
    "\n",
    "        # Memotong string yang berupa timestamp dari kolom \"created_at\"\n",
    "        # Mengambil string pada index pertama dikarenakan hanya berupa tanggal\n",
    "        # Jika mengambil keseluruhan timestamp dan tidak dikonversi ke dalam format \"string\" maka ketika dilakukan proses konversi ke File Excel akan Error\n",
    "        date = str(dataframe_elastic[\"created_at\"][i]).split(' ')[0]\n",
    "\n",
    "        # Mengisi kolom \"Impact\" dan kolom \"Description\"\n",
    "        impact = impact_hasil_prompt_list[i]\n",
    "        description = description_hasil_prompt_list[i]\n",
    "        \n",
    "        # Mengecek apakah terdapat isi dari kolom \"threat\" pada dataframe elastic\n",
    "        # Tidak bisa pakai fungsi pd.isnull() dikarenakan akan dianggap tidak \"NULL\" sehingga mengecek isi dari kolom \"threat\" pada dataframe elastic memakai fungsi len()\n",
    "        if(len(dataframe_elastic[\"threat\"][i]) == 0):\n",
    "            # Jika tidak ada isinya kolom \"threat\" pada dataframe elastic maka tactic, tactic ID, technique, dan technique ID pun tidak ada \n",
    "            tactic = '-'\n",
    "            tactic_id = '-'\n",
    "            technique = '-'\n",
    "            technique_id = '-'\n",
    "        else:\n",
    "            # Jika ada isinya kolom \"threat\" pada dataframe elastic maka dilakukan pengecekkan pada key \"tactic\"\n",
    "            # Tidak bisa pakai fungsi pd.isnull() dikarenakan akan dianggap tidak \"NULL\"\n",
    "            if(len(dataframe_elastic[\"threat\"][i][0][\"tactic\"]) == 0):\n",
    "                # Jika tidak ada isinya pada key \"tactic\" maka tactic, tactic ID, technique, dan technique ID pun tidak ada \n",
    "                tactic = '-'\n",
    "                tactic_id = '-'\n",
    "                technique = '-'\n",
    "                technique_id = '-'\n",
    "            else:\n",
    "                # Jika ada isinya kolom \"threat\" pada dataframe elastic dan key \"tactic\" maka akan diassign ke variabel \"tactic\" dan \"tactic_id\"\n",
    "                # Harus diconvert ke dalam tipe \"string\"\n",
    "                tactic = str(dataframe_elastic[\"threat\"][i][0][\"tactic\"][\"name\"])\n",
    "                tactic_id = str(dataframe_elastic[\"threat\"][i][0][\"tactic\"][\"id\"])\n",
    "\n",
    "                # Jika ada isinya kolom \"threat\" pada dataframe elastic dilakukan pengecekkan pada key \"technique\"\n",
    "                if(len(dataframe_elastic[\"threat\"][i][0][\"technique\"]) == 0):\n",
    "                    technique = '-'\n",
    "                    technique_id = '-'\n",
    "                else:\n",
    "                    # Jika ada isinya kolom \"threat\" pada dataframe elastic dan key \"technique\" maka akan diassign ke variabel \"technique\" dan \"technique_id\"\n",
    "                    # Harus diconvert ke dalam tipe \"string\"\n",
    "                    technique = str(dataframe_elastic[\"threat\"][i][0][\"technique\"][0][\"name\"])\n",
    "                    technique_id = str(dataframe_elastic[\"threat\"][i][0][\"technique\"][0][\"id\"])\n",
    "\n",
    "        \n",
    "            # Mengisi data ke dataframe baru\n",
    "            # Pada pandas versi ini maka harus dilakukan assign kolom dan baris dengan fungsi df.loc[i] = []\n",
    "            dataframe_baru.loc[i] = [\n",
    "                date, dataframe_elastic[\"name\"][i], description, impact, str(index), dataframe_elastic[\"query\"][i],\n",
    "                tactic, tactic_id, technique, technique_id,\n",
    "                str(dataframe_elastic[\"references\"][i]), str(dataframe_elastic[\"tags\"][i])\n",
    "            ]\n",
    "\n",
    "    return dataframe_baru"
   ]
  },
  {
   "cell_type": "markdown",
   "id": "6b7d8e64-3bd3-467d-a0fd-13eaf10598e1",
   "metadata": {},
   "source": [
    "#### 4. Membuat fungsi utama"
   ]
  },
  {
   "cell_type": "code",
   "execution_count": 19,
   "id": "de42f918-3cb4-4828-a074-7f25d08c16ca",
   "metadata": {},
   "outputs": [],
   "source": [
    "async def main():\n",
    "\n",
    "    # Menjalankan fungsi membuat_dataframe_elastic()\n",
    "    dataframe_elastic = membuat_dataframe_elastic(ELASTIC_RULES_JSON_FILE_PATH=ELASTIC_RULES_JSON_FILE_PATH)\n",
    "\n",
    "    # Menjalankan fungsi membuat_prompt_list()\n",
    "    impact_prompts_list, description_prompts_list = membuat_prompt_list(rule_name_list=dataframe_elastic[\"name\"])\n",
    "\n",
    "    # Menjalankan fungsi membuat_kolom_baru() secara Asynchronous\n",
    "    impact_hasil_prompt_list, description_hasil_prompt_list = await membuat_kolom_baru(BATCH_SIZE, impact_prompts_list, description_prompts_list)\n",
    "\n",
    "\n",
    "    # Membuat dataframe baru berdasarkan kolom-kolom yang dibutuhkan\n",
    "    dataframe_baru = membuat_dataframe_baru(KOLOM=KOLOM_YANG_AKAN_DITAMBAHKAN)\n",
    "\n",
    "    # Menjalankan fungsi mengisi_data_ke_dataframe()\n",
    "    dataframe_baru = mengisi_data_ke_dataframe(dataframe_elastic, dataframe_baru, impact_hasil_prompt_list, description_hasil_prompt_list)\n",
    "\n",
    "    print(f\"Menyimpan file {NAMA_FILE_OUTPUT}.xlsx\")\n",
    "    dataframe_baru.to_excel(\"../files/\" + NAMA_FILE_OUTPUT + \".xlsx\", index=False)"
   ]
  },
  {
   "cell_type": "markdown",
   "id": "5db54042-55f1-482a-8521-ba274bf55a35",
   "metadata": {},
   "source": [
    "#### 5. Menjalankan program"
   ]
  },
  {
   "cell_type": "code",
   "execution_count": 20,
   "id": "83948db2-e7d8-47a4-84fb-25cfc5e1b0f7",
   "metadata": {},
   "outputs": [
    {
     "data": {
      "application/vnd.jupyter.widget-view+json": {
       "model_id": "1b653f47173d43f6bd1f6b7d34673fc2",
       "version_major": 2,
       "version_minor": 0
      },
      "text/plain": [
       "Progress Mengirim Prompt:   0%|          | 0/5 [00:00<?, ?it/s]"
      ]
     },
     "metadata": {},
     "output_type": "display_data"
    },
    {
     "name": "stdout",
     "output_type": "stream",
     "text": [
      "Mengirim prompt Please give me an impact of  Execution Suspicious msi Installer executed with maximal one sentence.\n",
      "Mengirim prompt Please give me an impact of Scheduled Task Created or Updated Success with maximal one sentence.\n",
      "Mengirim prompt Please give me an impact of  Exfiltration   New External Disk/Volume Detected with maximal one sentence.\n",
      "Mengirim prompt Please give me an impact of  \"Impacket\" Tools Detected (Python based) with maximal one sentence.\n",
      "Mengirim prompt Please give me an impact of  Lockbit 3.0 with maximal one sentence.\n",
      "Mengirim prompt Please give me an impact of  Possible Powershell .ps1 Script Use Over SMB with maximal one sentence.\n",
      "Mengirim prompt Please give me an impact of  File or Directory Deletion Command with maximal one sentence.\n",
      "Mengirim prompt Please give me an impact of  Suspicious Link in Message Created matches Threat Intelligence with maximal one sentence.\n",
      "Mengirim prompt Please give me an impact of  Outbound Connection from IoC Cuba Ransomware   IP Address with maximal one sentence.\n",
      "Mengirim prompt Please give me an impact of CnC Communication Buran/Zeppelin Ransomware with maximal one sentence.\n",
      "Mengirim prompt Please give me a description of  Execution Suspicious msi Installer executed with maximal one sentence.\n",
      "Mengirim prompt Please give me a description of Scheduled Task Created or Updated Success with maximal one sentence.\n",
      "Mengirim prompt Please give me a description of  Exfiltration   New External Disk/Volume Detected with maximal one sentence.\n",
      "Mengirim prompt Please give me a description of  \"Impacket\" Tools Detected (Python based) with maximal one sentence.\n",
      "Mengirim prompt Please give me a description of  Lockbit 3.0 with maximal one sentence.\n",
      "Mengirim prompt Please give me a description of  Possible Powershell .ps1 Script Use Over SMB with maximal one sentence.\n",
      "Mengirim prompt Please give me a description of  File or Directory Deletion Command with maximal one sentence.\n",
      "Mengirim prompt Please give me a description of  Suspicious Link in Message Created matches Threat Intelligence with maximal one sentence.\n",
      "Mengirim prompt Please give me a description of  Outbound Connection from IoC Cuba Ransomware   IP Address with maximal one sentence.\n",
      "Mengirim prompt Please give me a description of CnC Communication Buran/Zeppelin Ransomware with maximal one sentence.\n",
      "Sleep 10 detik...\n",
      "Mengirim prompt Please give me an impact of  Outbound Connection from IoC Androxgh0st Ransomware  IP Address with maximal one sentence.\n",
      "Mengirim prompt Please give me an impact of  Outbound Connection to IoC 8Base Ransomware   IP Address with maximal one sentence.\n",
      "Mengirim prompt Please give me an impact of  Outbound Connection from IoC Androxgh0st Malware   IP Address with maximal one sentence.\n",
      "Mengirim prompt Please give me an impact of EDR High Alert Detected with maximal one sentence.\n",
      "Mengirim prompt Please give me an impact of  Outbound Connection from IoC IcedID  Ransomware   IP Address with maximal one sentence.\n",
      "Mengirim prompt Please give me an impact of EDR Medium Alert Detected with maximal one sentence.\n",
      "Mengirim prompt Please give me an impact of 26360 Adobe ColdFusion   IP Address with maximal one sentence.\n",
      "Mengirim prompt Please give me an impact of  Outbound Connection from IoC CLOP Ransomware   IP Address with maximal one sentence.\n",
      "Mengirim prompt Please give me an impact of 26360 Adobe ColdFusion   IP Address with maximal one sentence.\n",
      "Mengirim prompt Please give me an impact of  Outbound Connection from IoC  Deimos, Posh, and Covenant C2   IP Address with maximal one sentence.\n",
      "Mengirim prompt Please give me a description of  Outbound Connection from IoC Androxgh0st Ransomware  IP Address with maximal one sentence.\n",
      "Mengirim prompt Please give me a description of  Outbound Connection to IoC 8Base Ransomware   IP Address with maximal one sentence.\n",
      "Mengirim prompt Please give me a description of  Outbound Connection from IoC Androxgh0st Malware   IP Address with maximal one sentence.\n",
      "Mengirim prompt Please give me a description of EDR High Alert Detected with maximal one sentence.\n",
      "Mengirim prompt Please give me a description of  Outbound Connection from IoC IcedID  Ransomware   IP Address with maximal one sentence.\n",
      "Mengirim prompt Please give me a description of EDR Medium Alert Detected with maximal one sentence.\n",
      "Mengirim prompt Please give me a description of 26360 Adobe ColdFusion   IP Address with maximal one sentence.\n",
      "Mengirim prompt Please give me a description of  Outbound Connection from IoC CLOP Ransomware   IP Address with maximal one sentence.\n",
      "Mengirim prompt Please give me a description of 26360 Adobe ColdFusion   IP Address with maximal one sentence.\n",
      "Mengirim prompt Please give me a description of  Outbound Connection from IoC  Deimos, Posh, and Covenant C2   IP Address with maximal one sentence.\n",
      "Sleep 10 detik...\n",
      "Mengirim prompt Please give me an impact of  Outbound Connection from IoC Scattered Spider   IP Address with maximal one sentence.\n",
      "Mengirim prompt Please give me an impact of  Outbound Connection from IoC IcedID Ransomware   IP Address with maximal one sentence.\n",
      "Mengirim prompt Please give me an impact of  Outbound Connection IoC Scattered Spider   IP Address with maximal one sentence.\n",
      "Mengirim prompt Please give me an impact of  Outbound Connection from IoC Scattered Spider   IP Address with maximal one sentence.\n",
      "Mengirim prompt Please give me an impact of  Outbound Connection from IoC Cuba Ransomware   IP Address with maximal one sentence.\n",
      "Mengirim prompt Please give me an impact of  Execution   Encoded Command Execution with Powershell with maximal one sentence.\n",
      "Mengirim prompt Please give me an impact of  Protocol Tunneling with Chisel with maximal one sentence.\n",
      "Mengirim prompt Please give me an impact of SSH Concurrent Login From Multiple Source Success with maximal one sentence.\n",
      "Mengirim prompt Please give me an impact of Short Cycle Account Created and Account Deleted Success with maximal one sentence.\n",
      "Mengirim prompt Please give me an impact of SSH  Bruteforce Authentication from External Failed with maximal one sentence.\n",
      "Mengirim prompt Please give me a description of  Outbound Connection from IoC Scattered Spider   IP Address with maximal one sentence.\n",
      "Mengirim prompt Please give me a description of  Outbound Connection from IoC IcedID Ransomware   IP Address with maximal one sentence.\n",
      "Mengirim prompt Please give me a description of  Outbound Connection IoC Scattered Spider   IP Address with maximal one sentence.\n",
      "Mengirim prompt Please give me a description of  Outbound Connection from IoC Scattered Spider   IP Address with maximal one sentence.\n",
      "Mengirim prompt Please give me a description of  Outbound Connection from IoC Cuba Ransomware   IP Address with maximal one sentence.\n",
      "Mengirim prompt Please give me a description of  Execution   Encoded Command Execution with Powershell with maximal one sentence.\n",
      "Mengirim prompt Please give me a description of  Protocol Tunneling with Chisel with maximal one sentence.\n",
      "Mengirim prompt Please give me a description of SSH Concurrent Login From Multiple Source Success with maximal one sentence.\n",
      "Mengirim prompt Please give me a description of Short Cycle Account Created and Account Deleted Success with maximal one sentence.\n",
      "Mengirim prompt Please give me a description of SSH  Bruteforce Authentication from External Failed with maximal one sentence.\n",
      "Sleep 10 detik...\n",
      "Mengirim prompt Please give me an impact of  A New AnyDesk Service Was Installed In The System  with maximal one sentence.\n",
      "Mengirim prompt Please give me an impact of Group Added or User Added Success with maximal one sentence.\n",
      "Mengirim prompt Please give me an impact of Audit Log Cleared Success with maximal one sentence.\n",
      "Mengirim prompt Please give me an impact of  New Suspicious Process Created Via WMIC.EXE with maximal one sentence.\n",
      "Mengirim prompt Please give me an impact of  Suspicious DNS Request to File Sharing with maximal one sentence.\n",
      "Mengirim prompt Please give me an impact of  System Information Enumeration using Registry Query with maximal one sentence.\n",
      "Mengirim prompt Please give me an impact of  Possible Suspicious \"tamirlan.dll\" Executed  with maximal one sentence.\n",
      "Mengirim prompt Please give me an impact of  Ingreess Tool Transfer  with maximal one sentence.\n",
      "Mengirim prompt Please give me an impact of  Deleting Shadow Copy with DiskShadow  with maximal one sentence.\n",
      "Mengirim prompt Please give me an impact of  Disabling Error Information of Booting Process using bcdedit with maximal one sentence.\n",
      "Mengirim prompt Please give me a description of  A New AnyDesk Service Was Installed In The System  with maximal one sentence.\n",
      "Mengirim prompt Please give me a description of Group Added or User Added Success with maximal one sentence.\n",
      "Mengirim prompt Please give me a description of Audit Log Cleared Success with maximal one sentence.\n",
      "Mengirim prompt Please give me a description of  New Suspicious Process Created Via WMIC.EXE with maximal one sentence.\n",
      "Mengirim prompt Please give me a description of  Suspicious DNS Request to File Sharing with maximal one sentence.\n",
      "Mengirim prompt Please give me a description of  System Information Enumeration using Registry Query with maximal one sentence.\n",
      "Mengirim prompt Please give me a description of  Possible Suspicious \"tamirlan.dll\" Executed  with maximal one sentence.\n",
      "Mengirim prompt Please give me a description of  Ingreess Tool Transfer  with maximal one sentence.\n",
      "Mengirim prompt Please give me a description of  Deleting Shadow Copy with DiskShadow  with maximal one sentence.\n",
      "Mengirim prompt Please give me a description of  Disabling Error Information of Booting Process using bcdedit with maximal one sentence.\n",
      "Sleep 10 detik...\n",
      "Mengirim prompt Please give me an impact of  Download Malicious File With Curl AND Execute it with Microsft Register Server with maximal one sentence.\n",
      "Mengirim prompt Please give me an impact of  Outbound Connection from IoC BianLian Ransomware   URL Domain with maximal one sentence.\n",
      "Mengirim prompt Please give me an impact of Persistence Host File Modified with maximal one sentence.\n",
      "Mengirim prompt Please give me an impact of  Suspicious URL Access on cmd.exe with maximal one sentence.\n",
      "Mengirim prompt Please give me an impact of Discovery Netcat Network Activity with maximal one sentence.\n",
      "Mengirim prompt Please give me an impact of Lateral Movement Potentially Malicious SSHD Error with maximal one sentence.\n",
      "Mengirim prompt Please give me an impact of  Scheduled Task created with Powershell with maximal one sentence.\n",
      "Mengirim prompt Please give me an impact of Password Spraying Failed with maximal one sentence.\n",
      "Mengirim prompt Please give me an impact of  Suspicious Remote Desktop Connection to other Host using Command Line with maximal one sentence.\n",
      "Mengirim prompt Please give me an impact of  Outbound Connection from IoC MedusaLocker Ransomware   URL Domain with maximal one sentence.\n",
      "Mengirim prompt Please give me a description of  Download Malicious File With Curl AND Execute it with Microsft Register Server with maximal one sentence.\n",
      "Mengirim prompt Please give me a description of  Outbound Connection from IoC BianLian Ransomware   URL Domain with maximal one sentence.\n",
      "Mengirim prompt Please give me a description of Persistence Host File Modified with maximal one sentence.\n",
      "Mengirim prompt Please give me a description of  Suspicious URL Access on cmd.exe with maximal one sentence.\n",
      "Mengirim prompt Please give me a description of Discovery Netcat Network Activity with maximal one sentence.\n",
      "Mengirim prompt Please give me a description of Lateral Movement Potentially Malicious SSHD Error with maximal one sentence.\n",
      "Mengirim prompt Please give me a description of  Scheduled Task created with Powershell with maximal one sentence.\n",
      "Mengirim prompt Please give me a description of Password Spraying Failed with maximal one sentence.\n",
      "Mengirim prompt Please give me a description of  Suspicious Remote Desktop Connection to other Host using Command Line with maximal one sentence.\n",
      "Mengirim prompt Please give me a description of  Outbound Connection from IoC MedusaLocker Ransomware   URL Domain with maximal one sentence.\n",
      "Sleep 10 detik...\n"
     ]
    },
    {
     "data": {
      "application/vnd.jupyter.widget-view+json": {
       "model_id": "1ac7fee3df0d43f8a45d08523b7904ec",
       "version_major": 2,
       "version_minor": 0
      },
      "text/plain": [
       "Progress Mengisi Data ke Dataframe Baru:   0%|          | 0/50 [00:00<?, ?it/s]"
      ]
     },
     "metadata": {},
     "output_type": "display_data"
    },
    {
     "name": "stdout",
     "output_type": "stream",
     "text": [
      "Menyimpan file rules_BSI - Copy.xlsx\n"
     ]
    }
   ],
   "source": [
    "# Menjalankan fungsi main()\n",
    "await main()"
   ]
  }
 ],
 "metadata": {
  "kernelspec": {
   "display_name": "Python 3 (ipykernel)",
   "language": "python",
   "name": "python3"
  },
  "language_info": {
   "codemirror_mode": {
    "name": "ipython",
    "version": 3
   },
   "file_extension": ".py",
   "mimetype": "text/x-python",
   "name": "python",
   "nbconvert_exporter": "python",
   "pygments_lexer": "ipython3",
   "version": "3.12.3"
  }
 },
 "nbformat": 4,
 "nbformat_minor": 5
}
